{
  "nbformat": 4,
  "nbformat_minor": 0,
  "metadata": {
    "kernelspec": {
      "display_name": "Python 3",
      "language": "python",
      "name": "python3"
    },
    "language_info": {
      "codemirror_mode": {
        "name": "ipython",
        "version": 3
      },
      "file_extension": ".py",
      "mimetype": "text/x-python",
      "name": "python",
      "nbconvert_exporter": "python",
      "pygments_lexer": "ipython3",
      "version": "3.6.11"
    },
    "toc": {
      "base_numbering": 1,
      "nav_menu": {},
      "number_sections": true,
      "sideBar": true,
      "skip_h1_title": false,
      "title_cell": "Table of Contents",
      "title_sidebar": "Contents",
      "toc_cell": false,
      "toc_position": {},
      "toc_section_display": true,
      "toc_window_display": false
    },
    "colab": {
      "name": "Agrocode_Культуры (11).ipynb",
      "provenance": [],
      "collapsed_sections": [],
      "include_colab_link": true
    },
    "accelerator": "GPU"
  },
  "cells": [
    {
      "cell_type": "markdown",
      "metadata": {
        "id": "view-in-github",
        "colab_type": "text"
      },
      "source": [
        "<a href=\"https://colab.research.google.com/github/proninivandm/Agro_code/blob/main/Agrocode_%D0%9A%D1%83%D0%BB%D1%8C%D1%82%D1%83%D1%80%D1%8B.ipynb\" target=\"_parent\"><img src=\"https://colab.research.google.com/assets/colab-badge.svg\" alt=\"Open In Colab\"/></a>"
      ]
    },
    {
      "cell_type": "code",
      "metadata": {
        "id": "FuRs16xebHQ3"
      },
      "source": [
        "!pip install catboost"
      ],
      "execution_count": null,
      "outputs": []
    },
    {
      "cell_type": "code",
      "metadata": {
        "ExecuteTime": {
          "end_time": "2020-11-11T16:08:32.364602Z",
          "start_time": "2020-11-11T16:08:31.713372Z"
        },
        "id": "HUSIVbMRjpnT"
      },
      "source": [
        "import pandas as pd\n",
        "from sklearn.impute import KNNImputer\n",
        "from sklearn.model_selection import train_test_split\n",
        "from sklearn.ensemble import RandomForestClassifier\n",
        "from sklearn.metrics import f1_score, classification_report\n",
        "import matplotlib.pyplot as plt\n",
        "import seaborn as sns\n",
        "import numpy as np\n",
        "import catboost\n",
        "RANDOM_SEED = 10"
      ],
      "execution_count": null,
      "outputs": []
    },
    {
      "cell_type": "code",
      "metadata": {
        "id": "hQKqeVGh9K16"
      },
      "source": [
        "def preproc(df):\n",
        "  diffs_df = df[days_cols].diff(axis=1).drop('day_1', axis=1)\n",
        "  residuals_df = days_mean_df - df[days_cols]\n",
        "  residuals_med_df = days_median_df - df[days_cols]\n",
        "  diffs_df.rename(columns=lambda x: x.replace('day', 'diff'), inplace=True)\n",
        "  residuals_df.rename(columns=lambda x: x.replace('day', 'res'), inplace=True)\n",
        "  residuals_med_df.rename(columns=lambda x: x.replace('day', 'res_med'), inplace=True)\n",
        "  df = pd.concat([df, diffs_df, residuals_df, residuals_med_df], axis=1)\n",
        "  df['vmax'] = df[days_cols].max(axis=1)\n",
        "  df['vmin'] = df[days_cols].min(axis=1)\n",
        "  df['dmax'] = diffs_df.max(axis=1)\n",
        "  df['dmin'] = diffs_df.min(axis=1)\n",
        "  df['rmax'] = residuals_df.max(axis=1)\n",
        "  df['rmin'] = residuals_df.min(axis=1)\n",
        "  df['rmmax'] = residuals_med_df.max(axis=1)\n",
        "  df['rmmin'] = residuals_med_df.min(axis=1)\n",
        "  df['vdiff'] = df.vmax-df.vmin\n",
        "  df['ddiff'] = df.dmax-df.dmin\n",
        "  df['rdiff'] = df.rmax-df.rmin\n",
        "  df['rmdiff'] = df.rmmax-df.rmmin\n",
        "  df['argvmax'] = df.apply(lambda x: x[days_cols].argmax(), axis=1)\n",
        "  df['argvmin'] = df.apply(lambda x: x[days_cols].argmin(), axis=1)\n",
        "  df['argdmax'] = diffs_df.apply(lambda x: x.argmax(), axis=1)\n",
        "  df['argdmin'] = diffs_df.apply(lambda x: x.argmin(), axis=1)\n",
        "  df['argrmax'] = residuals_df.apply(lambda x: x.argmax(), axis=1)\n",
        "  df['argrmin'] = residuals_df.apply(lambda x: x.argmin(), axis=1)\n",
        "  df['argrmmax'] = residuals_med_df.apply(lambda x: x.argmax(), axis=1)\n",
        "  df['argrmmin'] = residuals_med_df.apply(lambda x: x.argmin(), axis=1)\n",
        "  df['vmean'] = df.apply(lambda x: x[days_cols].mean(), axis=1)\n",
        "  df['rmean'] = residuals_df.apply(lambda x: x.mean(), axis=1)\n",
        "  df['rmmean'] = residuals_med_df.apply(lambda x: x.mean(), axis=1)\n",
        "  df['vvar'] = df.apply(lambda x: x[days_cols].var(), axis=1)\n",
        "  df['dvar'] = diffs_df.apply(lambda x: x.var(), axis=1)\n",
        "  df['rvar'] = residuals_df.apply(lambda x: x.var(), axis=1)\n",
        "  df['rmvar'] = residuals_med_df.apply(lambda x: x.var(), axis=1)\n",
        "  return df"
      ],
      "execution_count": null,
      "outputs": []
    },
    {
      "cell_type": "code",
      "metadata": {
        "colab": {
          "base_uri": "https://localhost:8080/"
        },
        "id": "LScPiQ9OzFsC",
        "outputId": "a8b9c57a-0a4d-436f-d3bd-8e3fc5174d7f"
      },
      "source": [
        "from google.colab import drive\n",
        "drive.mount('/content/drive', force_remount=True)"
      ],
      "execution_count": null,
      "outputs": [
        {
          "output_type": "stream",
          "text": [
            "Mounted at /content/drive\n"
          ],
          "name": "stdout"
        }
      ]
    },
    {
      "cell_type": "code",
      "metadata": {
        "ExecuteTime": {
          "end_time": "2020-11-11T16:09:02.622485Z",
          "start_time": "2020-11-11T16:09:02.458471Z"
        },
        "id": "x4B-WXrsjpnT",
        "colab": {
          "base_uri": "https://localhost:8080/"
        },
        "outputId": "dddf50a2-c648-41a2-cf72-9eb881ec3d19"
      },
      "source": [
        "train = pd.read_csv('/content/drive/MyDrive/train.csv')\n",
        "test = pd.read_csv('/content/drive/MyDrive/test.csv')\n",
        "example = pd.read_csv('/content/drive/MyDrive/example_csv_agrocode-task1.csv')\n",
        "\n",
        "print(train.shape, test.shape)"
      ],
      "execution_count": null,
      "outputs": [
        {
          "output_type": "stream",
          "text": [
            "(2838, 370) (939, 369)\n"
          ],
          "name": "stdout"
        }
      ]
    },
    {
      "cell_type": "code",
      "metadata": {
        "id": "yhD4wSQy8ZQI"
      },
      "source": [
        "train.rename(columns=lambda x: x.replace(' ', '_').lower(), inplace=True)\n",
        "train = train.drop('day_366', axis=1)\n",
        "test.rename(columns=lambda x: x.replace(' ', '_').lower(), inplace=True)\n",
        "test = test.drop('day_366', axis=1)\n",
        "\n",
        "days_cols = [x for x in train.columns if 'day' in x]\n"
      ],
      "execution_count": null,
      "outputs": []
    },
    {
      "cell_type": "code",
      "metadata": {
        "id": "zevT6eYQjc5l"
      },
      "source": [
        "days_mean_df = pd.concat([train.drop('culture', axis=1), test], axis=0)[days_cols].apply(np.mean, axis=0)\n",
        "days_median_df = pd.concat([train.drop('culture', axis=1), test], axis=0)[days_cols].apply(np.median, axis=0)"
      ],
      "execution_count": null,
      "outputs": []
    },
    {
      "cell_type": "code",
      "metadata": {
        "id": "I_KcJN4oXRoO"
      },
      "source": [
        "to_fit=pd.get_dummies(pd.concat([train.drop('culture', axis=1), test], axis=0), columns=['year', 'field_id'])"
      ],
      "execution_count": null,
      "outputs": []
    },
    {
      "cell_type": "code",
      "metadata": {
        "colab": {
          "base_uri": "https://localhost:8080/"
        },
        "id": "dVgWBXSh5ky0",
        "outputId": "fba86d0e-d396-46ab-cfae-6c31c8248987"
      },
      "source": [
        "%%time\n",
        "imputer = KNNImputer(n_neighbors=9, weights=\"distance\")\n",
        "imputer.fit(to_fit)"
      ],
      "execution_count": null,
      "outputs": [
        {
          "output_type": "stream",
          "text": [
            "CPU times: user 48.4 ms, sys: 26.4 ms, total: 74.8 ms\n",
            "Wall time: 79.3 ms\n"
          ],
          "name": "stdout"
        }
      ]
    },
    {
      "cell_type": "code",
      "metadata": {
        "id": "omQTkRW4BAHw"
      },
      "source": [
        "to_fit[:len(train)] = imputer.transform(to_fit[:len(train)])\n",
        "train[days_cols] = to_fit[:len(train)][days_cols]"
      ],
      "execution_count": null,
      "outputs": []
    },
    {
      "cell_type": "code",
      "metadata": {
        "id": "aAauHpXnB2UN"
      },
      "source": [
        "to_fit[-len(test):] = imputer.transform(to_fit[-len(test):])\n",
        "test[days_cols] = to_fit[-len(test):][days_cols]"
      ],
      "execution_count": null,
      "outputs": []
    },
    {
      "cell_type": "code",
      "metadata": {
        "id": "FYGJUdRt-gGD"
      },
      "source": [
        "train_new = preproc(train)\n",
        "test_new = preproc(test)"
      ],
      "execution_count": null,
      "outputs": []
    },
    {
      "cell_type": "code",
      "metadata": {
        "id": "ki2KbriQ5IMQ"
      },
      "source": [
        "to_delete = [28,18,25,19,26,27]\n",
        "train_new = train_new.drop(train_new.query('culture in {}'.format(to_delete)).index)"
      ],
      "execution_count": null,
      "outputs": []
    },
    {
      "cell_type": "code",
      "metadata": {
        "id": "_S_hrPCRCYc_"
      },
      "source": [
        "un = train_new.culture.unique()"
      ],
      "execution_count": null,
      "outputs": []
    },
    {
      "cell_type": "code",
      "metadata": {
        "id": "Zl1kXt6mDYUc"
      },
      "source": [
        "x = range(len(un))"
      ],
      "execution_count": null,
      "outputs": []
    },
    {
      "cell_type": "code",
      "metadata": {
        "id": "HbGoFHnwDE2N"
      },
      "source": [
        "labels = {sorted(un)[x]:x for x in x}"
      ],
      "execution_count": null,
      "outputs": []
    },
    {
      "cell_type": "code",
      "metadata": {
        "colab": {
          "base_uri": "https://localhost:8080/"
        },
        "id": "Jrn6TW2cEVz9",
        "outputId": "f4d8b5e3-d7fb-4c31-acf5-8074e619b770"
      },
      "source": [
        "labels"
      ],
      "execution_count": null,
      "outputs": [
        {
          "output_type": "execute_result",
          "data": {
            "text/plain": [
              "{1: 0,\n",
              " 2: 1,\n",
              " 3: 2,\n",
              " 4: 3,\n",
              " 5: 4,\n",
              " 6: 5,\n",
              " 7: 6,\n",
              " 8: 7,\n",
              " 9: 8,\n",
              " 10: 9,\n",
              " 11: 10,\n",
              " 12: 11,\n",
              " 13: 12,\n",
              " 14: 13,\n",
              " 15: 14,\n",
              " 16: 15,\n",
              " 17: 16,\n",
              " 20: 17,\n",
              " 21: 18,\n",
              " 22: 19,\n",
              " 23: 20,\n",
              " 24: 21}"
            ]
          },
          "metadata": {
            "tags": []
          },
          "execution_count": 86
        }
      ]
    },
    {
      "cell_type": "code",
      "metadata": {
        "id": "gHka7XcQCtMd"
      },
      "source": [
        "train_new.culture=train_new.culture.apply(labels.get)"
      ],
      "execution_count": null,
      "outputs": []
    },
    {
      "cell_type": "code",
      "metadata": {
        "id": "m0fDyAM8bUgk"
      },
      "source": [
        "X_train, X_val, y_train, y_val = train_test_split(train_new.drop('culture', axis=1), train_new.culture, random_state=RANDOM_SEED)"
      ],
      "execution_count": null,
      "outputs": []
    },
    {
      "cell_type": "code",
      "metadata": {
        "id": "-kHeLg8gLXz6"
      },
      "source": [
        "train_pool = catboost.Pool(X_train, y_train, ['year', 'field_id'])\n",
        "val_pool = catboost.Pool(X_val, y_val, ['year', 'field_id'])\n",
        "test_pool = catboost.Pool(test_new, cat_features = ['year', 'field_id'])\n",
        "full_pool = catboost.Pool(train_new.drop('culture', axis=1), train_new.culture, cat_features = ['year', 'field_id'])"
      ],
      "execution_count": null,
      "outputs": []
    },
    {
      "cell_type": "code",
      "metadata": {
        "id": "dHTGRL8Xcf6m"
      },
      "source": [
        "cat_model = catboost.CatBoostClassifier(loss_function='MultiClass', eval_metric='TotalF1:average=Weighted', classes_count=len(train_new.culture.unique()), task_type='GPU', random_state=RANDOM_SEED, iterations=2000)"
      ],
      "execution_count": null,
      "outputs": []
    },
    {
      "cell_type": "code",
      "metadata": {
        "id": "PzP0vf2ic-nq"
      },
      "source": [
        "cat_model.fit(train_pool, eval_set=val_pool, use_best_model=True, metric_period=50)"
      ],
      "execution_count": null,
      "outputs": []
    },
    {
      "cell_type": "code",
      "metadata": {
        "colab": {
          "base_uri": "https://localhost:8080/"
        },
        "id": "Cp0--EkiHdjS",
        "outputId": "9818c48a-a410-4df8-fcf9-8475976f85ed"
      },
      "source": [
        "cat_model.fit(full_pool, metric_period=50)"
      ],
      "execution_count": null,
      "outputs": [
        {
          "output_type": "stream",
          "text": [
            "Learning rate set to 0.045043\n",
            "0:\tlearn: 0.5129877\ttotal: 69.7ms\tremaining: 2m 19s\n",
            "50:\tlearn: 0.8097069\ttotal: 3.6s\tremaining: 2m 17s\n",
            "100:\tlearn: 0.8675380\ttotal: 6.93s\tremaining: 2m 10s\n",
            "150:\tlearn: 0.8974469\ttotal: 10.1s\tremaining: 2m 4s\n",
            "200:\tlearn: 0.9199869\ttotal: 13.2s\tremaining: 1m 58s\n",
            "250:\tlearn: 0.9366943\ttotal: 16.3s\tremaining: 1m 53s\n",
            "300:\tlearn: 0.9506863\ttotal: 19.4s\tremaining: 1m 49s\n",
            "350:\tlearn: 0.9577559\ttotal: 22.4s\tremaining: 1m 45s\n",
            "400:\tlearn: 0.9680241\ttotal: 25.5s\tremaining: 1m 41s\n",
            "450:\tlearn: 0.9716549\ttotal: 28.5s\tremaining: 1m 37s\n",
            "500:\tlearn: 0.9786330\ttotal: 31.5s\tremaining: 1m 34s\n",
            "550:\tlearn: 0.9838673\ttotal: 34.6s\tremaining: 1m 31s\n",
            "600:\tlearn: 0.9873230\ttotal: 37.6s\tremaining: 1m 27s\n",
            "650:\tlearn: 0.9892035\ttotal: 40.6s\tremaining: 1m 24s\n",
            "700:\tlearn: 0.9906388\ttotal: 43.6s\tremaining: 1m 20s\n",
            "750:\tlearn: 0.9913916\ttotal: 46.7s\tremaining: 1m 17s\n",
            "800:\tlearn: 0.9932396\ttotal: 49.7s\tremaining: 1m 14s\n",
            "850:\tlearn: 0.9951561\ttotal: 52.7s\tremaining: 1m 11s\n",
            "900:\tlearn: 0.9951561\ttotal: 55.8s\tremaining: 1m 8s\n",
            "950:\tlearn: 0.9962735\ttotal: 58.8s\tremaining: 1m 4s\n",
            "1000:\tlearn: 0.9978331\ttotal: 1m 1s\tremaining: 1m 1s\n",
            "1050:\tlearn: 0.9982063\ttotal: 1m 4s\tremaining: 58.6s\n",
            "1100:\tlearn: 0.9989350\ttotal: 1m 7s\tremaining: 55.5s\n",
            "1150:\tlearn: 0.9996454\ttotal: 1m 10s\tremaining: 52.4s\n",
            "1200:\tlearn: 1.0000000\ttotal: 1m 14s\tremaining: 49.2s\n",
            "1250:\tlearn: 1.0000000\ttotal: 1m 17s\tremaining: 46.1s\n",
            "1300:\tlearn: 1.0000000\ttotal: 1m 20s\tremaining: 43s\n",
            "1350:\tlearn: 1.0000000\ttotal: 1m 23s\tremaining: 39.9s\n",
            "1400:\tlearn: 1.0000000\ttotal: 1m 26s\tremaining: 36.8s\n",
            "1450:\tlearn: 1.0000000\ttotal: 1m 29s\tremaining: 33.7s\n",
            "1500:\tlearn: 1.0000000\ttotal: 1m 32s\tremaining: 30.7s\n",
            "1550:\tlearn: 1.0000000\ttotal: 1m 35s\tremaining: 27.6s\n",
            "1600:\tlearn: 1.0000000\ttotal: 1m 38s\tremaining: 24.5s\n",
            "1650:\tlearn: 1.0000000\ttotal: 1m 41s\tremaining: 21.4s\n",
            "1700:\tlearn: 1.0000000\ttotal: 1m 44s\tremaining: 18.4s\n",
            "1750:\tlearn: 1.0000000\ttotal: 1m 47s\tremaining: 15.3s\n",
            "1800:\tlearn: 1.0000000\ttotal: 1m 50s\tremaining: 12.2s\n",
            "1850:\tlearn: 1.0000000\ttotal: 1m 53s\tremaining: 9.15s\n",
            "1900:\tlearn: 1.0000000\ttotal: 1m 56s\tremaining: 6.07s\n",
            "1950:\tlearn: 1.0000000\ttotal: 1m 59s\tremaining: 3s\n",
            "1999:\tlearn: 1.0000000\ttotal: 2m 2s\tremaining: 0us\n"
          ],
          "name": "stdout"
        },
        {
          "output_type": "execute_result",
          "data": {
            "text/plain": [
              "<catboost.core.CatBoostClassifier at 0x7f9de2ebbda0>"
            ]
          },
          "metadata": {
            "tags": []
          },
          "execution_count": 98
        }
      ]
    },
    {
      "cell_type": "code",
      "metadata": {
        "id": "0mjwfHUHzpux"
      },
      "source": [
        "cv_model = catboost.cv(full_pool, params = cat_model.get_params(), fold_count=5, partition_random_seed=RANDOM_SEED, metric_period = 50, plot=True)"
      ],
      "execution_count": null,
      "outputs": []
    },
    {
      "cell_type": "code",
      "metadata": {
        "colab": {
          "base_uri": "https://localhost:8080/",
          "height": 731
        },
        "id": "_Ej_TmQZCty4",
        "outputId": "12b68f6c-08d8-42d2-ffaf-46f0ff29ea5a"
      },
      "source": [
        "cv_model"
      ],
      "execution_count": null,
      "outputs": [
        {
          "output_type": "execute_result",
          "data": {
            "text/html": [
              "<div>\n",
              "<style scoped>\n",
              "    .dataframe tbody tr th:only-of-type {\n",
              "        vertical-align: middle;\n",
              "    }\n",
              "\n",
              "    .dataframe tbody tr th {\n",
              "        vertical-align: top;\n",
              "    }\n",
              "\n",
              "    .dataframe thead th {\n",
              "        text-align: right;\n",
              "    }\n",
              "</style>\n",
              "<table border=\"1\" class=\"dataframe\">\n",
              "  <thead>\n",
              "    <tr style=\"text-align: right;\">\n",
              "      <th></th>\n",
              "      <th>iterations</th>\n",
              "      <th>test-TotalF1:average=Weighted-mean</th>\n",
              "      <th>test-TotalF1:average=Weighted-std</th>\n",
              "      <th>train-TotalF1:average=Weighted-mean</th>\n",
              "      <th>train-TotalF1:average=Weighted-std</th>\n",
              "      <th>test-MultiClass-mean</th>\n",
              "      <th>test-MultiClass-std</th>\n",
              "      <th>train-MultiClass-mean</th>\n",
              "      <th>train-MultiClass-std</th>\n",
              "    </tr>\n",
              "  </thead>\n",
              "  <tbody>\n",
              "    <tr>\n",
              "      <th>0</th>\n",
              "      <td>0</td>\n",
              "      <td>0.447672</td>\n",
              "      <td>0.057025</td>\n",
              "      <td>0.510973</td>\n",
              "      <td>0.003724</td>\n",
              "      <td>2.994055</td>\n",
              "      <td>0.026986</td>\n",
              "      <td>2.936852</td>\n",
              "      <td>0.007742</td>\n",
              "    </tr>\n",
              "    <tr>\n",
              "      <th>1</th>\n",
              "      <td>50</td>\n",
              "      <td>0.716477</td>\n",
              "      <td>0.014413</td>\n",
              "      <td>0.765940</td>\n",
              "      <td>0.005688</td>\n",
              "      <td>1.131360</td>\n",
              "      <td>0.032245</td>\n",
              "      <td>1.024015</td>\n",
              "      <td>0.006218</td>\n",
              "    </tr>\n",
              "    <tr>\n",
              "      <th>2</th>\n",
              "      <td>100</td>\n",
              "      <td>0.757519</td>\n",
              "      <td>0.019840</td>\n",
              "      <td>0.832132</td>\n",
              "      <td>0.007606</td>\n",
              "      <td>0.844550</td>\n",
              "      <td>0.026860</td>\n",
              "      <td>0.705798</td>\n",
              "      <td>0.006149</td>\n",
              "    </tr>\n",
              "    <tr>\n",
              "      <th>3</th>\n",
              "      <td>150</td>\n",
              "      <td>0.785634</td>\n",
              "      <td>0.025300</td>\n",
              "      <td>0.867254</td>\n",
              "      <td>0.006985</td>\n",
              "      <td>0.738326</td>\n",
              "      <td>0.026934</td>\n",
              "      <td>0.572996</td>\n",
              "      <td>0.005352</td>\n",
              "    </tr>\n",
              "    <tr>\n",
              "      <th>4</th>\n",
              "      <td>200</td>\n",
              "      <td>0.802759</td>\n",
              "      <td>0.019291</td>\n",
              "      <td>0.889445</td>\n",
              "      <td>0.006436</td>\n",
              "      <td>0.676416</td>\n",
              "      <td>0.026008</td>\n",
              "      <td>0.489646</td>\n",
              "      <td>0.004656</td>\n",
              "    </tr>\n",
              "    <tr>\n",
              "      <th>5</th>\n",
              "      <td>250</td>\n",
              "      <td>0.813601</td>\n",
              "      <td>0.015779</td>\n",
              "      <td>0.904525</td>\n",
              "      <td>0.003882</td>\n",
              "      <td>0.633052</td>\n",
              "      <td>0.025754</td>\n",
              "      <td>0.428618</td>\n",
              "      <td>0.003955</td>\n",
              "    </tr>\n",
              "    <tr>\n",
              "      <th>6</th>\n",
              "      <td>300</td>\n",
              "      <td>0.823981</td>\n",
              "      <td>0.016130</td>\n",
              "      <td>0.919117</td>\n",
              "      <td>0.002660</td>\n",
              "      <td>0.601287</td>\n",
              "      <td>0.026296</td>\n",
              "      <td>0.382132</td>\n",
              "      <td>0.002879</td>\n",
              "    </tr>\n",
              "    <tr>\n",
              "      <th>7</th>\n",
              "      <td>350</td>\n",
              "      <td>0.831690</td>\n",
              "      <td>0.016551</td>\n",
              "      <td>0.931622</td>\n",
              "      <td>0.003623</td>\n",
              "      <td>0.576720</td>\n",
              "      <td>0.024922</td>\n",
              "      <td>0.344163</td>\n",
              "      <td>0.002852</td>\n",
              "    </tr>\n",
              "    <tr>\n",
              "      <th>8</th>\n",
              "      <td>400</td>\n",
              "      <td>0.837467</td>\n",
              "      <td>0.014399</td>\n",
              "      <td>0.941510</td>\n",
              "      <td>0.002687</td>\n",
              "      <td>0.556282</td>\n",
              "      <td>0.024525</td>\n",
              "      <td>0.312705</td>\n",
              "      <td>0.002896</td>\n",
              "    </tr>\n",
              "    <tr>\n",
              "      <th>9</th>\n",
              "      <td>450</td>\n",
              "      <td>0.842106</td>\n",
              "      <td>0.012348</td>\n",
              "      <td>0.951222</td>\n",
              "      <td>0.002140</td>\n",
              "      <td>0.539810</td>\n",
              "      <td>0.024350</td>\n",
              "      <td>0.286775</td>\n",
              "      <td>0.003276</td>\n",
              "    </tr>\n",
              "    <tr>\n",
              "      <th>10</th>\n",
              "      <td>500</td>\n",
              "      <td>0.845582</td>\n",
              "      <td>0.014046</td>\n",
              "      <td>0.958062</td>\n",
              "      <td>0.002212</td>\n",
              "      <td>0.525005</td>\n",
              "      <td>0.023641</td>\n",
              "      <td>0.264206</td>\n",
              "      <td>0.003029</td>\n",
              "    </tr>\n",
              "    <tr>\n",
              "      <th>11</th>\n",
              "      <td>550</td>\n",
              "      <td>0.848475</td>\n",
              "      <td>0.012691</td>\n",
              "      <td>0.962196</td>\n",
              "      <td>0.002013</td>\n",
              "      <td>0.512039</td>\n",
              "      <td>0.023778</td>\n",
              "      <td>0.244442</td>\n",
              "      <td>0.003639</td>\n",
              "    </tr>\n",
              "    <tr>\n",
              "      <th>12</th>\n",
              "      <td>600</td>\n",
              "      <td>0.852539</td>\n",
              "      <td>0.013263</td>\n",
              "      <td>0.967133</td>\n",
              "      <td>0.002202</td>\n",
              "      <td>0.500097</td>\n",
              "      <td>0.023685</td>\n",
              "      <td>0.226875</td>\n",
              "      <td>0.003357</td>\n",
              "    </tr>\n",
              "    <tr>\n",
              "      <th>13</th>\n",
              "      <td>650</td>\n",
              "      <td>0.855954</td>\n",
              "      <td>0.010943</td>\n",
              "      <td>0.971727</td>\n",
              "      <td>0.001351</td>\n",
              "      <td>0.489867</td>\n",
              "      <td>0.023294</td>\n",
              "      <td>0.211452</td>\n",
              "      <td>0.003674</td>\n",
              "    </tr>\n",
              "    <tr>\n",
              "      <th>14</th>\n",
              "      <td>700</td>\n",
              "      <td>0.857642</td>\n",
              "      <td>0.012080</td>\n",
              "      <td>0.975322</td>\n",
              "      <td>0.002903</td>\n",
              "      <td>0.480497</td>\n",
              "      <td>0.023717</td>\n",
              "      <td>0.197687</td>\n",
              "      <td>0.003702</td>\n",
              "    </tr>\n",
              "    <tr>\n",
              "      <th>15</th>\n",
              "      <td>750</td>\n",
              "      <td>0.860103</td>\n",
              "      <td>0.012377</td>\n",
              "      <td>0.978410</td>\n",
              "      <td>0.003067</td>\n",
              "      <td>0.471959</td>\n",
              "      <td>0.023234</td>\n",
              "      <td>0.185004</td>\n",
              "      <td>0.004094</td>\n",
              "    </tr>\n",
              "    <tr>\n",
              "      <th>16</th>\n",
              "      <td>800</td>\n",
              "      <td>0.861648</td>\n",
              "      <td>0.011614</td>\n",
              "      <td>0.981056</td>\n",
              "      <td>0.002440</td>\n",
              "      <td>0.463905</td>\n",
              "      <td>0.024032</td>\n",
              "      <td>0.173898</td>\n",
              "      <td>0.004035</td>\n",
              "    </tr>\n",
              "    <tr>\n",
              "      <th>17</th>\n",
              "      <td>850</td>\n",
              "      <td>0.864327</td>\n",
              "      <td>0.011700</td>\n",
              "      <td>0.983840</td>\n",
              "      <td>0.001963</td>\n",
              "      <td>0.456235</td>\n",
              "      <td>0.022939</td>\n",
              "      <td>0.163612</td>\n",
              "      <td>0.003682</td>\n",
              "    </tr>\n",
              "    <tr>\n",
              "      <th>18</th>\n",
              "      <td>900</td>\n",
              "      <td>0.864002</td>\n",
              "      <td>0.011288</td>\n",
              "      <td>0.985775</td>\n",
              "      <td>0.002018</td>\n",
              "      <td>0.449862</td>\n",
              "      <td>0.023562</td>\n",
              "      <td>0.154577</td>\n",
              "      <td>0.003562</td>\n",
              "    </tr>\n",
              "    <tr>\n",
              "      <th>19</th>\n",
              "      <td>950</td>\n",
              "      <td>0.866335</td>\n",
              "      <td>0.011294</td>\n",
              "      <td>0.987381</td>\n",
              "      <td>0.002002</td>\n",
              "      <td>0.443346</td>\n",
              "      <td>0.022726</td>\n",
              "      <td>0.146017</td>\n",
              "      <td>0.003174</td>\n",
              "    </tr>\n",
              "    <tr>\n",
              "      <th>20</th>\n",
              "      <td>999</td>\n",
              "      <td>0.867122</td>\n",
              "      <td>0.012071</td>\n",
              "      <td>0.988944</td>\n",
              "      <td>0.002326</td>\n",
              "      <td>0.437602</td>\n",
              "      <td>0.023018</td>\n",
              "      <td>0.138252</td>\n",
              "      <td>0.003128</td>\n",
              "    </tr>\n",
              "  </tbody>\n",
              "</table>\n",
              "</div>"
            ],
            "text/plain": [
              "    iterations  ...  train-MultiClass-std\n",
              "0            0  ...              0.007742\n",
              "1           50  ...              0.006218\n",
              "2          100  ...              0.006149\n",
              "3          150  ...              0.005352\n",
              "4          200  ...              0.004656\n",
              "5          250  ...              0.003955\n",
              "6          300  ...              0.002879\n",
              "7          350  ...              0.002852\n",
              "8          400  ...              0.002896\n",
              "9          450  ...              0.003276\n",
              "10         500  ...              0.003029\n",
              "11         550  ...              0.003639\n",
              "12         600  ...              0.003357\n",
              "13         650  ...              0.003674\n",
              "14         700  ...              0.003702\n",
              "15         750  ...              0.004094\n",
              "16         800  ...              0.004035\n",
              "17         850  ...              0.003682\n",
              "18         900  ...              0.003562\n",
              "19         950  ...              0.003174\n",
              "20         999  ...              0.003128\n",
              "\n",
              "[21 rows x 9 columns]"
            ]
          },
          "metadata": {
            "tags": []
          },
          "execution_count": 84
        }
      ]
    },
    {
      "cell_type": "code",
      "metadata": {
        "id": "KIOPIJ_a3_c1"
      },
      "source": [
        "train_new.culture.value_counts()"
      ],
      "execution_count": null,
      "outputs": []
    },
    {
      "cell_type": "code",
      "metadata": {
        "id": "K7uuz4Khoe7p"
      },
      "source": [
        "train.groupby('culture').mean()"
      ],
      "execution_count": null,
      "outputs": []
    },
    {
      "cell_type": "code",
      "metadata": {
        "id": "BXIDTqCMowzS"
      },
      "source": [
        "0.876496"
      ],
      "execution_count": null,
      "outputs": []
    },
    {
      "cell_type": "code",
      "metadata": {
        "id": "Ysx9TfU9tR-c"
      },
      "source": [
        "test['Culture'] = cat_model.predict(test_pool)"
      ],
      "execution_count": null,
      "outputs": []
    },
    {
      "cell_type": "code",
      "metadata": {
        "id": "2iAzRH55JJnf"
      },
      "source": [
        "labels = {k:v for v,k in labels.items()}"
      ],
      "execution_count": null,
      "outputs": []
    },
    {
      "cell_type": "code",
      "metadata": {
        "id": "GyHP2eqCKK7S"
      },
      "source": [
        "labels"
      ],
      "execution_count": null,
      "outputs": []
    },
    {
      "cell_type": "code",
      "metadata": {
        "id": "CNAeG1RmIuHR"
      },
      "source": [
        "test.Culture = test.Culture.apply(labels.get)"
      ],
      "execution_count": null,
      "outputs": []
    },
    {
      "cell_type": "code",
      "metadata": {
        "id": "cTcmV84AtqsC"
      },
      "source": [
        "test.to_csv('preds9_cfull_pool.csv', index=False, columns=['Culture'])"
      ],
      "execution_count": null,
      "outputs": []
    },
    {
      "cell_type": "code",
      "metadata": {
        "id": "eb2elEaya-f3"
      },
      "source": [
        "len(test)"
      ],
      "execution_count": null,
      "outputs": []
    }
  ]
}